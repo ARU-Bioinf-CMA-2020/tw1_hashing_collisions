{
 "cells": [
  {
   "cell_type": "markdown",
   "metadata": {},
   "source": [
    "# Simple Hashing and Collisions"
   ]
  },
  {
   "cell_type": "markdown",
   "metadata": {},
   "source": [
    "This is a very simple example of hashing based on the modulo function and neglecting the issue of collisions mentioned in the lecture."
   ]
  },
  {
   "cell_type": "markdown",
   "metadata": {},
   "source": [
    "## Introduction"
   ]
  },
  {
   "cell_type": "markdown",
   "metadata": {},
   "source": [
    "Good hashing approaches are available in Python for the *Dictionary* data type. However here is a demonstration of a simple hashing function. The data values have actually been chosen to avoid collisions for the initial size for the hash table. \n",
    "In this example the data values are their own keys."
   ]
  },
  {
   "cell_type": "markdown",
   "metadata": {},
   "source": [
    "## A simple hash function"
   ]
  },
  {
   "cell_type": "code",
   "execution_count": 1,
   "metadata": {},
   "outputs": [],
   "source": [
    "data = [8, 17, 27, 30, 55, 56, 57, 60, 1001, 1002]"
   ]
  },
  {
   "cell_type": "markdown",
   "metadata": {},
   "source": [
    "Some of the values are closely spaced in value. The aim is spread them through the hash table in an apparently random way. \n",
    "The hash table is initially loaded with placeholder 'None' values.\n",
    "The chosen size is 17 for the demo."
   ]
  },
  {
   "cell_type": "code",
   "execution_count": 2,
   "metadata": {},
   "outputs": [],
   "source": [
    "hash_table = [None] * 17\n",
    "tableLength = len(hash_table)"
   ]
  },
  {
   "cell_type": "markdown",
   "metadata": {},
   "source": [
    "The hash function is the modulo (remainder) of the data value devided by the length of the hash_table."
   ]
  },
  {
   "cell_type": "code",
   "execution_count": 3,
   "metadata": {},
   "outputs": [],
   "source": [
    "def hash_function(value, table_size):\n",
    "    return value % table_size"
   ]
  },
  {
   "cell_type": "markdown",
   "metadata": {},
   "source": [
    "The data values can now be distributed in the hash_table using the hash_function. "
   ]
  },
  {
   "cell_type": "code",
   "execution_count": 4,
   "metadata": {},
   "outputs": [],
   "source": [
    "for value in data:\n",
    "    hash_table[hash_function(value, tableLength)] = value"
   ]
  },
  {
   "cell_type": "markdown",
   "metadata": {},
   "source": [
    "Here they are, notice the function has distributed them through the table."
   ]
  },
  {
   "cell_type": "code",
   "execution_count": 5,
   "metadata": {},
   "outputs": [
    {
     "name": "stdout",
     "output_type": "stream",
     "text": [
      "[17, None, None, None, 55, 56, 57, None, 8, 60, 27, None, None, 30, None, 1001, 1002]\n"
     ]
    }
   ],
   "source": [
    "print(hash_table)"
   ]
  },
  {
   "cell_type": "markdown",
   "metadata": {},
   "source": [
    "A value can be retrieved from the table by applying the hash function - but in this case they are their own keys so it does not appear very useful."
   ]
  },
  {
   "cell_type": "code",
   "execution_count": 6,
   "metadata": {},
   "outputs": [
    {
     "name": "stdout",
     "output_type": "stream",
     "text": [
      "27\n"
     ]
    }
   ],
   "source": [
    "print(hash_table[hash_function(27, tableLength)])"
   ]
  },
  {
   "cell_type": "markdown",
   "metadata": {},
   "source": [
    "There is not much space for addtional values in this case without collisions. These occur when the hash_function for a new key is the same as an existing one.\n",
    ",\n",
    "One way to minimize collisions is to make a better choice for the hashing function. For example  it might be better to use a large prime number for the modulo function function in preference to the tableLength value *e.g.* for a 1000-slot table use the prime 997. \n",
    "\n",
    "A completely functional hash_table would have one of the methods for dealing with a collision. The overhead in dealing with collisions will decrease the hashing performance from its initial O(1). For retrieving data the process is slowed up by the added steps when a slot has been assigned to multiple data values. \n",
    "\n",
    "The overhead increases as the *'load factor'* for the hash table increases. The *load factor* (often called $\\alpha$) is the proportion of the slots that have values loaded into them. \n",
    "\n",
    "So for the demo with initial valuesabove there are 9 data values in 15 slots: so that is a load value of 9/15 or 0.60.\n",
    "\n",
    "For the simple linear addressing method of dealing with collisions the big O performance of the hashing varies as:\n",
    "\n",
    "$O$ = 1+(1/(1-$\\alpha$)<sup>2</sup>)\n",
    "\n",
    "(ref. Sedgewick, R. (2003) Linear probing. p615, *Algorthims in Java*, Addison Wesley) \n",
    "\n",
    "For low $\\alpha$, such as occurs with small numbers of data elements in a large hashing table the O(1) performance will be not degraded by the 1-$\\alpha$)<sup>2</sup>) term in this expression.\n",
    "\n",
    "**To see the form of this expression with increasing $\\alpha$ your job is to plot the function as the load factor approaches 1. You should do this with matlibplot. The next section shows you how to plot a function.**\n"
   ]
  },
  {
   "cell_type": "markdown",
   "metadata": {},
   "source": [
    "## Plotting a function with matlibplot\n",
    "\n",
    "This is simple example showing how we can plot the function $y$ = $x$<sup>2</sup> for $x$ in the range 0 to 4:"
   ]
  },
  {
   "cell_type": "code",
   "execution_count": 7,
   "metadata": {},
   "outputs": [],
   "source": [
    "# This line configures matplotlib to show figures embedded in the notebook\n",
    "# It uses the IPython inline 'magic' syntax\n",
    "%matplotlib inline\n",
    "# standard import\n",
    "import matplotlib\n",
    "import matplotlib.pyplot as plt\n",
    "import numpy as np"
   ]
  },
  {
   "cell_type": "code",
   "execution_count": 8,
   "metadata": {},
   "outputs": [
    {
     "data": {
      "image/png": "[encoded data removed]",
      "text/plain": [
       "<Figure size 432x288 with 1 Axes>"
      ]
     },
     "metadata": {
      "needs_background": "light"
     },
     "output_type": "display_data"
    }
   ],
   "source": [
    "x = np.linspace(start=-4., stop=4.) # Return evenly spaced numbers over a specified interval.\n",
    "y = x**2\n",
    "plt.figure()\n",
    "plt.plot(x,y)\n",
    "plt.xlabel('x axis label')\n",
    "plt.ylabel('y axis label')\n",
    "plt.show()"
   ]
  },
  {
   "cell_type": "markdown",
   "metadata": {},
   "source": [
    "## Your task\n",
    "Plot how the $O$ the big O performance of the hashing with the load factor $\\alpha$ according to the Sedgewick formulae above.\n",
    "\n",
    "Consider what is a good range to use for $\\alpha$ in the plot and make sure you label the axes."
   ]
  },
  {
   "cell_type": "code",
   "execution_count": 10,
   "metadata": {},
   "outputs": [
    {
     "data": {
      "image/png": "[encoded data removed]",
      "text/plain": [
       "<Figure size 432x288 with 1 Axes>"
      ]
     },
     "metadata": {
      "needs_background": "light"
     },
     "output_type": "display_data"
    }
   ],
   "source": [
    "# model answer \n",
    "# alpha only meaningful in range 0 to 1. \n",
    "# At alpha=1 big O performance becomes infinite\n",
    "x = np.linspace(start=0., stop=0.9)\n",
    "y = 1 + 1/(1 - x )**2\n",
    "plt.figure()\n",
    "plt.plot(x,y, 'r')\n",
    "plt.xlabel('load factor')\n",
    "plt.ylabel('big O performance')\n",
    "plt.show()"
   ]
  },
  {
   "cell_type": "markdown",
   "metadata": {},
   "source": [
    "You should notice that the plot shows that linear addressing has a strikingly non-linear loss of performance as the hash table load factor increases. \n",
    "\n",
    "However, a small load factor is also an inefficient use of memory space. So as a result, many more sophisticated methods of dealing with collision have been devised which have better performance at higher load factors."
   ]
  },
  {
   "cell_type": "code",
   "execution_count": null,
   "metadata": {},
   "outputs": [],
   "source": []
  }
 ],
 "metadata": {
  "kernelspec": {
   "display_name": "Python 3",
   "language": "python",
   "name": "python3"
  },
  "language_info": {
   "codemirror_mode": {
    "name": "ipython",
    "version": 3
   },
   "file_extension": ".py",
   "mimetype": "text/x-python",
   "name": "python",
   "nbconvert_exporter": "python",
   "pygments_lexer": "ipython3",
   "version": "3.7.4"
  }
 },
 "nbformat": 4,
 "nbformat_minor": 2
}
